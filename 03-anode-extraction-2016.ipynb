{
 "cells": [
  {
   "cell_type": "code",
   "execution_count": null,
   "metadata": {},
   "outputs": [],
   "source": [
    "%matplotlib inline\n",
    "%reload_ext autoreload\n",
    "%autoreload 2"
   ]
  },
  {
   "cell_type": "code",
   "execution_count": null,
   "metadata": {},
   "outputs": [],
   "source": [
    "import sys\n",
    "sys.path.append('./helpers/')"
   ]
  },
  {
   "cell_type": "code",
   "execution_count": null,
   "metadata": {},
   "outputs": [],
   "source": [
    "from frame_extraction_function import *"
   ]
  },
  {
   "cell_type": "code",
   "execution_count": null,
   "metadata": {},
   "outputs": [],
   "source": [
    "df_new = pd.read_csv('./frame_extraction_csv_files/survey2016.csv')"
   ]
  },
  {
   "cell_type": "code",
   "execution_count": null,
   "metadata": {},
   "outputs": [],
   "source": [
    "df_new"
   ]
  },
  {
   "cell_type": "code",
   "execution_count": null,
   "metadata": {},
   "outputs": [],
   "source": [
    "df_anode = df_new[df_new.Description.str.contains('Anode')]"
   ]
  },
  {
   "cell_type": "code",
   "execution_count": null,
   "metadata": {},
   "outputs": [],
   "source": [
    "len(df_anode)"
   ]
  },
  {
   "cell_type": "code",
   "execution_count": null,
   "metadata": {},
   "outputs": [],
   "source": [
    "df_anode = df_anode.reset_index(drop=True)"
   ]
  },
  {
   "cell_type": "code",
   "execution_count": null,
   "metadata": {},
   "outputs": [],
   "source": [
    "codes = ['Anode - Bracelet - slight wastage 0-25%', 'Anode - Bracelet - moderate wastage 25-50%']"
   ]
  },
  {
   "cell_type": "code",
   "execution_count": null,
   "metadata": {},
   "outputs": [],
   "source": [
    "# codes = ['Field Joint', 'Anode - Bracelet - slight wastage 0-25%', 'Field Joint - Normal', \n",
    "#          'Span - End', 'Span - Start', 'Anode - Bracelet - moderate wastage 25-50%']"
   ]
  },
  {
   "cell_type": "code",
   "execution_count": null,
   "metadata": {},
   "outputs": [],
   "source": [
    "p = Path('/media/data/astamoulakatos/Survey-1-2016/')"
   ]
  },
  {
   "cell_type": "code",
   "execution_count": null,
   "metadata": {},
   "outputs": [],
   "source": [
    "path_to_save = Path('/media/raid/astamoulakatos/DOMAIN_ADAPTATION/Survey2016/')"
   ]
  },
  {
   "cell_type": "code",
   "execution_count": null,
   "metadata": {},
   "outputs": [],
   "source": [
    "save = path_to_save/'centre/'"
   ]
  },
  {
   "cell_type": "code",
   "execution_count": null,
   "metadata": {},
   "outputs": [],
   "source": [
    "for k in tqdm(range(0,len(df_anode))): \n",
    "    video1 = p/df_anode.folder[k]/df_anode.video1[k]\n",
    "    video2 = p/df_anode.folder[k]/df_anode.video2[k]\n",
    "    video3 = p/df_anode.folder[k]/df_anode.video3[k]\n",
    "    \n",
    "    start = float(df_anode['offset_Ch2'][k] - 1)*1000\n",
    "    stop = float(df_anode['offset_Ch2'][k] + 0.5)*1000\n",
    "    save = path_to_save/'centre/anode/'\n",
    "    extract_frames(k, str(video2), str(save), 'anode', 2, start, stop, nframes=8)   \n",
    "    \n",
    "    start = float(df_anode['offset_Ch1'][k] - 1)*1000\n",
    "    stop = float(df_anode['offset_Ch1'][k] + 0.5)*1000\n",
    "    save = path_to_save/'left/anode/'\n",
    "    extract_frames(k, str(video1), str(save), 'anode', 1, start, stop, nframes=8)\n",
    "    \n",
    "    start = float(df_anode['offset_Ch3'][k] - 1)*1000\n",
    "    stop = float(df_anode['offset_Ch3'][k] + 0.5)*1000\n",
    "    save = path_to_save/'right/anode/'\n",
    "    extract_frames(k, str(video3), str(save), 'anode', 3, start, stop, nframes=8)     "
   ]
  },
  {
   "cell_type": "code",
   "execution_count": null,
   "metadata": {},
   "outputs": [],
   "source": []
  },
  {
   "cell_type": "code",
   "execution_count": null,
   "metadata": {},
   "outputs": [],
   "source": []
  }
 ],
 "metadata": {
  "kernelspec": {
   "display_name": "Python 3",
   "language": "python",
   "name": "python3"
  },
  "language_info": {
   "codemirror_mode": {
    "name": "ipython",
    "version": 3
   },
   "file_extension": ".py",
   "mimetype": "text/x-python",
   "name": "python",
   "nbconvert_exporter": "python",
   "pygments_lexer": "ipython3",
   "version": "3.7.7"
  }
 },
 "nbformat": 4,
 "nbformat_minor": 4
}
