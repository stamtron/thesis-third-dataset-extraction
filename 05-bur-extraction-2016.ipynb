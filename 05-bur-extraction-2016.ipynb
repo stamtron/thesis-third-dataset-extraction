{
 "cells": [
  {
   "cell_type": "code",
   "execution_count": null,
   "metadata": {},
   "outputs": [],
   "source": [
    "%matplotlib inline\n",
    "%reload_ext autoreload\n",
    "%autoreload 2"
   ]
  },
  {
   "cell_type": "code",
   "execution_count": null,
   "metadata": {},
   "outputs": [],
   "source": [
    "import sys\n",
    "sys.path.append('./helpers/')"
   ]
  },
  {
   "cell_type": "code",
   "execution_count": null,
   "metadata": {},
   "outputs": [],
   "source": [
    "from frame_extraction_function import *"
   ]
  },
  {
   "cell_type": "code",
   "execution_count": null,
   "metadata": {},
   "outputs": [],
   "source": [
    "df = pd.read_csv('./frame_extraction_csv_files/survey2016.csv')"
   ]
  },
  {
   "cell_type": "code",
   "execution_count": null,
   "metadata": {},
   "outputs": [],
   "source": [
    "df"
   ]
  },
  {
   "cell_type": "code",
   "execution_count": null,
   "metadata": {},
   "outputs": [],
   "source": [
    "codes = ['Field Joint', 'Anode - Bracelet - slight wastage 0-25%', 'Field Joint - Normal', \n",
    "         'Span - End', 'Span - Start', 'Anode - Bracelet - moderate wastage 25-50%',\n",
    "         'Exposure - Start', 'Exposure - End']"
   ]
  },
  {
   "cell_type": "code",
   "execution_count": null,
   "metadata": {},
   "outputs": [],
   "source": [
    "codes = ['Exposure - Start', 'Exposure - End']"
   ]
  },
  {
   "cell_type": "code",
   "execution_count": null,
   "metadata": {},
   "outputs": [],
   "source": [
    "df_new = df[df['Description'].isin(codes)]"
   ]
  },
  {
   "cell_type": "code",
   "execution_count": null,
   "metadata": {},
   "outputs": [],
   "source": [
    "df_new"
   ]
  },
  {
   "cell_type": "code",
   "execution_count": null,
   "metadata": {},
   "outputs": [],
   "source": [
    "df_new = df_new.reset_index(drop=True)"
   ]
  },
  {
   "cell_type": "code",
   "execution_count": null,
   "metadata": {},
   "outputs": [],
   "source": [
    "len(df_new)"
   ]
  },
  {
   "cell_type": "code",
   "execution_count": null,
   "metadata": {},
   "outputs": [],
   "source": [
    "#df_new.to_csv('./csv_for_frame_extraction/bur.csv', index=False)"
   ]
  },
  {
   "cell_type": "code",
   "execution_count": null,
   "metadata": {},
   "outputs": [],
   "source": [
    "p = Path('/media/data/astamoulakatos/Survey-1-2016/')"
   ]
  },
  {
   "cell_type": "code",
   "execution_count": null,
   "metadata": {},
   "outputs": [],
   "source": [
    "path_to_save = Path('/media/raid/astamoulakatos/DOMAIN_ADAPTATION/Survey2016/')"
   ]
  },
  {
   "cell_type": "code",
   "execution_count": null,
   "metadata": {},
   "outputs": [],
   "source": [
    "frames = 0\n",
    "for k in tqdm(range(0,len(df_new)-1)): \n",
    "    video1 = p/df_new.folder[k]/df_new.video1[k]\n",
    "    video2 = p/df_new.folder[k]/df_new.video2[k]\n",
    "    video3 = p/df_new.folder[k]/df_new.video3[k]\n",
    "    \n",
    "    if df_new.folder[k] == df_new.folder[k+1]:\n",
    "        if (df_new['KP'][k] < df_new['KP'][k+1]):\n",
    "            if (df_new['Description'][k] == 'Exposure - End') and (df_new['Description'][k+1] == 'Exposure - Start'):\n",
    "                start = float(df_new['offset_Ch2'][k] + 2) * 1000\n",
    "                stop = float(df_new['offset_Ch2'][k+1] - 2) * 1000\n",
    "                nframes = int((stop-start)/26000) # only one nframes because it has to be equal\n",
    "                #print(nframes)\n",
    "                #frames = frames + nframes\n",
    "                save = path_to_save/'centre/bur/'\n",
    "                extract_frames(k, str(video2), str(save), 'burial', 2, start, stop, nframes=nframes)  \n",
    "                \n",
    "                frames = frames + nframes\n",
    "                start = float(df_new['offset_Ch1'][k] + 2) * 1000\n",
    "                stop = float(df_new['offset_Ch1'][k+1] - 2) * 1000               \n",
    "                save = path_to_save/'left/bur/'\n",
    "                extract_frames(k, str(video1), str(save), 'burial', 1, start, stop, nframes=nframes)\n",
    "                \n",
    "                start = float(df_new['offset_Ch3'][k] + 2) * 1000\n",
    "                stop = float(df_new['offset_Ch3'][k+1] - 2) * 1000\n",
    "                save = path_to_save/'right/bur/'\n",
    "                extract_frames(k, str(video3), str(save), 'burial', 3, start, stop, nframes=nframes) \n",
    "                \n",
    "        elif (df_new['KP'][k] > df_new['KP'][k+1]):\n",
    "            if (df_new['Description'][k] == 'Exposure - Start') and (df_new['Description'][k+1] == 'Exposure - End'):\n",
    "                start = float(df_new['offset_Ch2'][k] + 2) * 1000\n",
    "                stop = float(df_new['offset_Ch2'][k+1] - 2) * 1000\n",
    "                nframes = int((stop-start)/26000)\n",
    "                #print(nframes)\n",
    "                save = path_to_save/'centre/bur/'\n",
    "                extract_frames(k, str(video2), str(save), 'burial', 2, start, stop, nframes=nframes)   \n",
    "                \n",
    "                start = float(df_new['offset_Ch1'][k] + 2) * 1000\n",
    "                stop = float(df_new['offset_Ch1'][k+1] - 2) * 1000\n",
    "                save = path_to_save/'left/bur/'\n",
    "                extract_frames(k, str(video1), str(save), 'burial', 1, start, stop, nframes=nframes)\n",
    "                \n",
    "                frames = frames +nframes\n",
    "                start = float(df_new['offset_Ch3'][k] + 2) * 1000\n",
    "                stop = float(df_new['offset_Ch3'][k+1] - 2) * 1000\n",
    "                save = path_to_save/'right/bur/'\n",
    "                extract_frames(k, str(video3), str(save), 'burial', 3, start, stop, nframes=nframes)  "
   ]
  },
  {
   "cell_type": "code",
   "execution_count": null,
   "metadata": {},
   "outputs": [],
   "source": [
    "frames"
   ]
  },
  {
   "cell_type": "code",
   "execution_count": null,
   "metadata": {},
   "outputs": [],
   "source": [
    "start = float(df_new['offset_Ch1'][0] + 2) * 1000\n",
    "stop = float(df_new['offset_Ch1'][1] - 2) * 1000\n",
    "nframes = int((stop-start)/2000)"
   ]
  },
  {
   "cell_type": "code",
   "execution_count": null,
   "metadata": {},
   "outputs": [],
   "source": [
    "nframes"
   ]
  },
  {
   "cell_type": "code",
   "execution_count": null,
   "metadata": {},
   "outputs": [],
   "source": [
    "start"
   ]
  },
  {
   "cell_type": "code",
   "execution_count": null,
   "metadata": {},
   "outputs": [],
   "source": [
    "stop"
   ]
  },
  {
   "cell_type": "code",
   "execution_count": null,
   "metadata": {},
   "outputs": [],
   "source": [
    "stop-start"
   ]
  },
  {
   "cell_type": "code",
   "execution_count": null,
   "metadata": {},
   "outputs": [],
   "source": []
  }
 ],
 "metadata": {
  "kernelspec": {
   "display_name": "Python 3",
   "language": "python",
   "name": "python3"
  },
  "language_info": {
   "codemirror_mode": {
    "name": "ipython",
    "version": 3
   },
   "file_extension": ".py",
   "mimetype": "text/x-python",
   "name": "python",
   "nbconvert_exporter": "python",
   "pygments_lexer": "ipython3",
   "version": "3.7.7"
  }
 },
 "nbformat": 4,
 "nbformat_minor": 4
}
