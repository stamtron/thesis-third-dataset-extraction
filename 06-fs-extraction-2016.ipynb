{
 "cells": [
  {
   "cell_type": "code",
   "execution_count": null,
   "metadata": {},
   "outputs": [],
   "source": [
    "%matplotlib inline\n",
    "%reload_ext autoreload\n",
    "%autoreload 2"
   ]
  },
  {
   "cell_type": "code",
   "execution_count": null,
   "metadata": {},
   "outputs": [],
   "source": [
    "import sys\n",
    "sys.path.append('./helpers/')"
   ]
  },
  {
   "cell_type": "code",
   "execution_count": null,
   "metadata": {},
   "outputs": [],
   "source": [
    "from frame_extraction_function import *"
   ]
  },
  {
   "cell_type": "code",
   "execution_count": null,
   "metadata": {},
   "outputs": [],
   "source": [
    "df = pd.read_csv('./frame_extraction_csv_files/survey2016.csv')"
   ]
  },
  {
   "cell_type": "code",
   "execution_count": null,
   "metadata": {},
   "outputs": [],
   "source": [
    "df"
   ]
  },
  {
   "cell_type": "code",
   "execution_count": null,
   "metadata": {},
   "outputs": [],
   "source": [
    "# codes = ['Field Joint', 'Anode - Bracelet - slight wastage 0-25%', 'Field Joint - Normal', \n",
    "#          'Span - End', 'Span - Start', 'Anode - Bracelet - moderate wastage 25-50%']"
   ]
  },
  {
   "cell_type": "code",
   "execution_count": null,
   "metadata": {},
   "outputs": [],
   "source": [
    "codes = ['Span - End', 'Span - Start']"
   ]
  },
  {
   "cell_type": "code",
   "execution_count": null,
   "metadata": {},
   "outputs": [],
   "source": [
    "df_new = df[df['Description'].isin(codes)]"
   ]
  },
  {
   "cell_type": "code",
   "execution_count": null,
   "metadata": {},
   "outputs": [],
   "source": [
    "df_new = df_new.reset_index(drop=True)"
   ]
  },
  {
   "cell_type": "code",
   "execution_count": null,
   "metadata": {},
   "outputs": [],
   "source": [
    "len(df_new)"
   ]
  },
  {
   "cell_type": "code",
   "execution_count": null,
   "metadata": {},
   "outputs": [],
   "source": [
    "df_new"
   ]
  },
  {
   "cell_type": "code",
   "execution_count": null,
   "metadata": {},
   "outputs": [],
   "source": [
    "#df_new.to_csv('./csv_for_frame_extraction/fs.csv', index=False)"
   ]
  },
  {
   "cell_type": "code",
   "execution_count": null,
   "metadata": {},
   "outputs": [],
   "source": [
    "p = Path('/media/data/astamoulakatos/Survey-1-2016/')"
   ]
  },
  {
   "cell_type": "code",
   "execution_count": null,
   "metadata": {},
   "outputs": [],
   "source": [
    "path_to_save = Path('/media/raid/astamoulakatos/DOMAIN_ADAPTATION/Survey2016/')"
   ]
  },
  {
   "cell_type": "code",
   "execution_count": null,
   "metadata": {},
   "outputs": [],
   "source": [
    "frames = 0\n",
    "for k in tqdm(range(0,len(df_new)-1)): \n",
    "    video1 = p/df_new.folder[k]/df_new.video1[k]\n",
    "    video2 = p/df_new.folder[k]/df_new.video2[k]\n",
    "    video3 = p/df_new.folder[k]/df_new.video3[k]\n",
    "    \n",
    "    if df_new.folder[k] == df_new.folder[k+1]:\n",
    "        if (df_new['KP'][k] < df_new['KP'][k+1]):\n",
    "            if (df_new['Description'][k] == 'Span - Start') and (df_new['Description'][k+1] == 'Span - End'):\n",
    "                start = float(df_new['offset_Ch2'][k] + 0.5) * 1000\n",
    "                stop = float(df_new['offset_Ch2'][k+1] - 1) * 1000\n",
    "                nframes = int((stop-start)/2500)\n",
    "                print(nframes)\n",
    "                frames = frames + nframes\n",
    "                save = path_to_save/'centre/fs/'\n",
    "                extract_frames(k, str(video2), str(save), 'fs', 2, start, stop, nframes)     \n",
    "                \n",
    "                start = float(df_new['offset_Ch1'][k] + 0.5) * 1000\n",
    "                stop = float(df_new['offset_Ch1'][k+1] - 1) * 1000\n",
    "                save = path_to_save/'left/fs/'\n",
    "                extract_frames(k, str(video1), str(save), 'fs', 1, start, stop, nframes)\n",
    "                \n",
    "                start = float(df_new['offset_Ch3'][k] + 0.5) * 1000\n",
    "                stop = float(df_new['offset_Ch3'][k+1] - 1) * 1000\n",
    "                save = path_to_save/'right/fs/'\n",
    "                extract_frames(k, str(video3), str(save), 'fs', 3, start, stop, nframes)   \n",
    "                \n",
    "        elif (df_new['KP'][k] > df_new['KP'][k+1]):\n",
    "            if (df_new['Description'][k] == 'Span - End') and (df_new['Description'][k+1] == 'Span - Start'):\n",
    "                start = float(df_new['offset_Ch2'][k] + 0.5) * 1000\n",
    "                stop = float(df_new['offset_Ch2'][k+1] - 1) * 1000\n",
    "                nframes = int((stop-start)/2500)\n",
    "                print(nframes)\n",
    "                frames = frames + nframes\n",
    "                save = path_to_save/'centre/fs/'\n",
    "                extract_frames(k, str(video2), str(save), 'fs', 2, start, stop, nframes) \n",
    "                \n",
    "                start = float(df_new['offset_Ch1'][k] + 0.5) * 1000\n",
    "                stop = float(df_new['offset_Ch1'][k+1] - 1) * 1000\n",
    "                save = path_to_save/'left/fs/'\n",
    "                extract_frames(k, str(video1), str(save), 'fs', 1, start, stop, nframes)\n",
    "                \n",
    "                start = float(df_new['offset_Ch3'][k] + 0.5) * 1000\n",
    "                stop = float(df_new['offset_Ch3'][k+1] - 1) * 1000\n",
    "                save = path_to_save/'right/fs/'\n",
    "                extract_frames(k, str(video3), str(save), 'fs', 3, start, stop, nframes)  "
   ]
  },
  {
   "cell_type": "code",
   "execution_count": null,
   "metadata": {},
   "outputs": [],
   "source": [
    "frames"
   ]
  },
  {
   "cell_type": "code",
   "execution_count": null,
   "metadata": {},
   "outputs": [],
   "source": [
    "# # SEEK TO LOCATION OF EVENT FOR EACH VIDEO USING MILISECONDS\n",
    "# import os\n",
    "# import matplotlib.pyplot as plt\n",
    "# %matplotlib inline\n",
    "# import cv2\n",
    "# p = Path('/media/data/astamoulakatos/Survey-1-2016/')\n",
    "\n",
    "# for i in range(len(df_new)):\n",
    "#     vid1 = p/df_new.folder[i]/df_new.video1[i]\n",
    "#     vid2 = p/df_new.folder[i]/df_new.video2[i]\n",
    "#     vid3 = p/df_new.folder[i]/df_new.video3[i]\n",
    "    \n",
    "#     location1 = float(df_new['offset_Ch1'][i])*1000\n",
    "#     #print(location)\n",
    "#     cap = cv2.VideoCapture(str(vid1))\n",
    "#     cap.set(cv2.CAP_PROP_POS_MSEC, location1)\n",
    "#     #cap.set(cv2.CAP_PROP_POS_FRAMES, location)\n",
    "#     success1,image1 = cap.read()\n",
    "    \n",
    "#     location2 = float(df_new['offset_Ch2'][i])*1000\n",
    "#     #print(location)\n",
    "#     cap = cv2.VideoCapture(str(vid2))\n",
    "#     cap.set(cv2.CAP_PROP_POS_MSEC, location2)\n",
    "#     #cap.set(cv2.CAP_PROP_POS_FRAMES, location)\n",
    "#     success2,image2 = cap.read()\n",
    "    \n",
    "    \n",
    "#     location3 = float(df_new['offset_Ch3'][i])*1000\n",
    "#     #print(location)\n",
    "#     cap = cv2.VideoCapture(str(vid3))\n",
    "#     cap.set(cv2.CAP_PROP_POS_MSEC, location3)\n",
    "#     #cap.set(cv2.CAP_PROP_POS_FRAMES, location)\n",
    "#     success3 ,image3 = cap.read()\n",
    "    \n",
    "#     if (success1 & success2 & success3):\n",
    "#         plt.figure(figsize=(19,5))\n",
    "#         plt.suptitle('Event: {}  ,  Folder: {}'.format(df_new['Description'][i], df_new['folder'][i]), fontsize=18)\n",
    "#         #plt.tight_layout()\n",
    "#         plt.subplot(131)\n",
    "#         plt.title('offset1 = {:.3f} sec'.format(location1/1000))\n",
    "#         plt.axis('off')\n",
    "#         plt.imshow(image1)\n",
    "        \n",
    "#         plt.subplot(132)\n",
    "#         plt.title('offset2 = {:.3f} sec'.format(location2/1000))\n",
    "#         plt.axis('off')\n",
    "#         plt.imshow(image2)\n",
    "\n",
    "#         plt.subplot(133)\n",
    "#         plt.title('offset3 = {:.3f} sec'.format(location3/1000))\n",
    "#         plt.axis('off')\n",
    "#         plt.imshow(image3)\n",
    "#         #plt.savefig('./subplots/subplot{}.jpg'.format(i))"
   ]
  },
  {
   "cell_type": "code",
   "execution_count": null,
   "metadata": {},
   "outputs": [],
   "source": [
    "p/df.folder[0]/df.video1[0]"
   ]
  },
  {
   "cell_type": "code",
   "execution_count": null,
   "metadata": {},
   "outputs": [],
   "source": [
    "path_to_save = '/media/raid/astamoulakatos/multi-view-frames/fs/'"
   ]
  },
  {
   "cell_type": "code",
   "execution_count": null,
   "metadata": {},
   "outputs": [],
   "source": []
  }
 ],
 "metadata": {
  "language_info": {
   "name": "python",
   "pygments_lexer": "ipython3"
  }
 },
 "nbformat": 4,
 "nbformat_minor": 4
}
