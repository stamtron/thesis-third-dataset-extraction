{
 "cells": [
  {
   "cell_type": "code",
   "execution_count": null,
   "metadata": {},
   "outputs": [],
   "source": [
    "import os\n",
    "import pandas as pd\n",
    "import datetime as dt\n",
    "import csv\n",
    "from pathlib import Path\n",
    "import datetime as dt"
   ]
  },
  {
   "cell_type": "code",
   "execution_count": null,
   "metadata": {},
   "outputs": [],
   "source": [
    "p = Path('/media/data/astamoulakatos/Survey-2-2012/Project 1/IC2/')"
   ]
  },
  {
   "cell_type": "code",
   "execution_count": null,
   "metadata": {},
   "outputs": [],
   "source": [
    "folder_list = list(p.glob('*')); folder_list"
   ]
  },
  {
   "cell_type": "code",
   "execution_count": null,
   "metadata": {},
   "outputs": [],
   "source": [
    "for f in folder_list:\n",
    "    video_list = list(f.glob('*'))\n",
    "    dflist = pd.DataFrame()\n",
    "    output = pd.DataFrame()\n",
    "    failures = []\n",
    "    for v in video_list:\n",
    "        try:\n",
    "            video_files = list(v.glob('*.mpg' or '*.asf'))\n",
    "            events_file = list(v.glob('*.csv'))\n",
    "            if events_file == []:\n",
    "                continue\n",
    "            else:\n",
    "                event = events_file[0]\n",
    "            df = pd.read_csv(event, encoding = 'ISO-8859-1')\n",
    "            dflist = dflist.append(df)\n",
    "            num_events = df.index.size\n",
    "            video1 = [vi.parts[-1] for vi in video_files if 'Ch1' in vi.parts[-1]][0]\n",
    "            video2 = [vi.parts[-1] for vi in video_files if 'Ch2' in vi.parts[-1]][0]\n",
    "            video3 = [vi.parts[-1] for vi in video_files if 'Ch3' in vi.parts[-1]][0]\n",
    "            for i in range(num_events):\n",
    "                output = output.append({\n",
    "                    'folder': v.parts[-1],\n",
    "                    'video1': video1,\n",
    "                    'video2': video2,\n",
    "                    'video3': video3\n",
    "                }, ignore_index=True)\n",
    "            final_df = pd.concat([output.reset_index(drop=True),dflist.reset_index(drop=True)], axis=1)\n",
    "        except Exception as E:\n",
    "            failures.append(f)\n",
    "            print(\"failure in {f}: {E}\".format(f=f, E=E))"
   ]
  },
  {
   "cell_type": "code",
   "execution_count": null,
   "metadata": {},
   "outputs": [],
   "source": [
    "final_df.head()"
   ]
  },
  {
   "cell_type": "code",
   "execution_count": null,
   "metadata": {},
   "outputs": [],
   "source": [
    "len(final_df)"
   ]
  },
  {
   "cell_type": "markdown",
   "metadata": {},
   "source": [
    "# CSV with the 3 VIDEOS"
   ]
  },
  {
   "cell_type": "code",
   "execution_count": null,
   "metadata": {},
   "outputs": [],
   "source": [
    "p = Path('/media/scratch/astamoulakatos/new_nsea_data/BGE2012_-_IC2/Videos/IC2/')\n",
    "folder_list = list(p.glob('*')); folder_list"
   ]
  },
  {
   "cell_type": "code",
   "execution_count": null,
   "metadata": {},
   "outputs": [],
   "source": [
    "p_with_vid = Path('/media/data/astamoulakatos/Survey-2-2012/Project 1/IC2/')\n",
    "folder_list_vid = list(p_with_vid.glob('*')); folder_list_vid"
   ]
  },
  {
   "cell_type": "code",
   "execution_count": null,
   "metadata": {},
   "outputs": [],
   "source": [
    "for f in folder_list:\n",
    "    for fv in folder_list_vid:\n",
    "        if fv.parts[-1] == f.parts[-1]:\n",
    "            videos_folder = fv\n",
    "#     print(videos_folder)\n",
    "    video_list_with_vids = list(videos_folder.glob('*'))\n",
    "    video_list_without_vids = list(f.glob('*'))\n",
    "    dflist = pd.DataFrame()\n",
    "    output = pd.DataFrame()\n",
    "    failures = []\n",
    "    for v in video_list_without_vids:\n",
    "        try:\n",
    "            events_file = list(v.glob('*.csv'))\n",
    "            if events_file == []:\n",
    "                continue\n",
    "            else:\n",
    "                event = events_file[0]\n",
    "            df = pd.read_csv(event, encoding = 'ISO-8859-1')\n",
    "            dflist = dflist.append(df)\n",
    "            num_events = df.index.size\n",
    "            for vw in video_list_with_vids:\n",
    "                if vw.parts[-1] == v.parts[-1]:\n",
    "                    videos_path = vw\n",
    "            video_files = list(videos_path.glob('*.mpg' or '*.asf'))\n",
    "            video1 = [vi.parts[-1] for vi in video_files if 'Ch1' in vi.parts[-1]][0]\n",
    "            video2 = [vi.parts[-1] for vi in video_files if 'Ch2' in vi.parts[-1]][0]\n",
    "            video3 = [vi.parts[-1] for vi in video_files if 'Ch3' in vi.parts[-1]][0]\n",
    "            for i in range(num_events):\n",
    "                output = output.append({\n",
    "                    'folder': v.parts[-1],\n",
    "                    'video1': video1,\n",
    "                    'video2': video2,\n",
    "                    'video3': video3\n",
    "                }, ignore_index=True)\n",
    "            final_df = pd.concat([output.reset_index(drop=True),dflist.reset_index(drop=True)], axis=1)\n",
    "        except Exception as E:\n",
    "            failures.append(f)\n",
    "            print(\"failure in {f}: {E}\".format(f=f, E=E))"
   ]
  },
  {
   "cell_type": "code",
   "execution_count": null,
   "metadata": {},
   "outputs": [],
   "source": [
    "final_df.head()"
   ]
  },
  {
   "cell_type": "code",
   "execution_count": null,
   "metadata": {},
   "outputs": [],
   "source": [
    "len(final_df)"
   ]
  },
  {
   "cell_type": "markdown",
   "metadata": {},
   "source": [
    "# CSV with the 3 VIDEOS and OFFSETS"
   ]
  },
  {
   "cell_type": "code",
   "execution_count": null,
   "metadata": {},
   "outputs": [],
   "source": [
    "for f in folder_list:\n",
    "    for fv in folder_list_vid:\n",
    "        if fv.parts[-1] == f.parts[-1]:\n",
    "            videos_folder = fv\n",
    "#     print(videos_folder)\n",
    "    video_list_with_vids = list(videos_folder.glob('*'))\n",
    "    video_list_without_vids = list(f.glob('*'))\n",
    "    dflist = pd.DataFrame()\n",
    "    output = pd.DataFrame()\n",
    "    failures = []\n",
    "    for v in video_list_without_vids:\n",
    "        try:\n",
    "            events_file = list(v.glob('*.csv'))\n",
    "            if events_file == []:\n",
    "                continue\n",
    "            else:\n",
    "                event = events_file[0]\n",
    "            df = pd.read_csv(event, encoding = 'ISO-8859-1')\n",
    "            dflist = dflist.append(df)\n",
    "            num_events = df.index.size\n",
    "            for vw in video_list_with_vids:\n",
    "                if vw.parts[-1] == v.parts[-1]:\n",
    "                    videos_path = vw\n",
    "            video_files = list(videos_path.glob('*.mpg' or '*.asf'))\n",
    "            video1 = [vi.parts[-1] for vi in video_files if 'Ch1' in vi.parts[-1]][0]\n",
    "            video2 = [vi.parts[-1] for vi in video_files if 'Ch2' in vi.parts[-1]][0]\n",
    "            video3 = [vi.parts[-1] for vi in video_files if 'Ch3' in vi.parts[-1]][0]\n",
    "            for i in range(num_events):\n",
    "                output = output.append({\n",
    "                    'folder': v.parts[-1],\n",
    "                    'video1': video1,\n",
    "                    'video2': video2,\n",
    "                    'video3': video3\n",
    "                }, ignore_index=True)\n",
    "            final_df = pd.concat([output.reset_index(drop=True),dflist.reset_index(drop=True)], axis=1)\n",
    "        except Exception as E:\n",
    "            failures.append(f)\n",
    "            print(\"failure in {f}: {E}\".format(f=f, E=E))\n",
    "            \n",
    "\n",
    "    video1 = final_df['video1'].tolist()\n",
    "    video2 = final_df['video2'].tolist()\n",
    "    video3 = final_df['video3'].tolist()\n",
    "    timestamps = final_df['VWTimestamp'].tolist()\n",
    "\n",
    "\n",
    "    start1 = []\n",
    "    start2 = []\n",
    "    start3 = []\n",
    "    for i in range(len(video1)):\n",
    "        v1 = video1[i][:17]\n",
    "        v2 = video2[i][:17]\n",
    "        v3 = video3[i][:17]\n",
    "        start1.append(v1)\n",
    "        start2.append(v2)\n",
    "        start3.append(v3)\n",
    "\n",
    "    offset1 = []\n",
    "    offset2 = []\n",
    "    offset3 = []\n",
    "    for i in range(len(start1)):\n",
    "        a = dt.datetime(int(start1[i][0:4]),int(start1[i][4:6]),int(start1[i][6:8]),\n",
    "                        int(start1[i][8:10]),int(start1[i][10:12]),int(start1[i][12:14]),int(start1[i][14:17])*1000)\n",
    "        b = dflist.iat[i,0]\n",
    "        b = str(b)\n",
    "        b = dt.datetime(int(b[0:4]),int(b[4:6]),int(b[6:8]),\n",
    "                            int(b[8:10]),int(b[10:12]),int(b[12:14]),int(b[14:17])*1000)\n",
    "\n",
    "        offset1.append((b-a).total_seconds())\n",
    "\n",
    "        a = dt.datetime(int(start2[i][0:4]),int(start2[i][4:6]),int(start2[i][6:8]),\n",
    "                        int(start2[i][8:10]),int(start2[i][10:12]),int(start2[i][12:14]),int(start2[i][14:17])*1000)\n",
    "        offset2.append((b-a).total_seconds())\n",
    "\n",
    "        a = dt.datetime(int(start3[i][0:4]),int(start3[i][4:6]),int(start3[i][6:8]),\n",
    "                        int(start3[i][8:10]),int(start3[i][10:12]),int(start3[i][12:14]),int(start3[i][14:17])*1000)\n",
    "\n",
    "        offset3.append((b-a).total_seconds())\n",
    "\n",
    "    final_df.insert(loc = 2, column = 'offset_Ch1', value = offset1)\n",
    "    final_df.insert(loc = 4, column = 'offset_Ch2', value = offset2)\n",
    "    final_df.insert(loc = 6, column = 'offset_Ch3', value = offset3)\n",
    "    final_df.to_csv('./frame_extraction_csv_files/survey2012_folder_' + f.parts[-1] + '.csv', index=False)"
   ]
  },
  {
   "cell_type": "code",
   "execution_count": null,
   "metadata": {},
   "outputs": [],
   "source": [
    "final_df.head()"
   ]
  },
  {
   "cell_type": "code",
   "execution_count": null,
   "metadata": {},
   "outputs": [],
   "source": []
  },
  {
   "cell_type": "code",
   "execution_count": null,
   "metadata": {},
   "outputs": [],
   "source": []
  },
  {
   "cell_type": "code",
   "execution_count": null,
   "metadata": {},
   "outputs": [],
   "source": []
  },
  {
   "cell_type": "code",
   "execution_count": null,
   "metadata": {},
   "outputs": [],
   "source": []
  }
 ],
 "metadata": {
  "language_info": {
   "name": "python",
   "pygments_lexer": "ipython3"
  }
 },
 "nbformat": 4,
 "nbformat_minor": 4
}
