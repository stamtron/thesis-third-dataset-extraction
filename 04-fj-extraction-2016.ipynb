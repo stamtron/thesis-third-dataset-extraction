{
 "cells": [
  {
   "cell_type": "code",
   "execution_count": null,
   "metadata": {},
   "outputs": [],
   "source": [
    "%matplotlib inline\n",
    "%reload_ext autoreload\n",
    "%autoreload 2"
   ]
  },
  {
   "cell_type": "code",
   "execution_count": null,
   "metadata": {},
   "outputs": [],
   "source": [
    "import sys\n",
    "sys.path.append('./helpers_frame_extraction/')"
   ]
  },
  {
   "cell_type": "code",
   "execution_count": null,
   "metadata": {},
   "outputs": [],
   "source": [
    "from frame_extraction_function import *"
   ]
  },
  {
   "cell_type": "code",
   "execution_count": null,
   "metadata": {},
   "outputs": [],
   "source": [
    "df_new = pd.read_csv('./csv_for_frame_extraction/fj.csv')"
   ]
  },
  {
   "cell_type": "code",
   "execution_count": null,
   "metadata": {},
   "outputs": [],
   "source": [
    "df_new"
   ]
  },
  {
   "cell_type": "code",
   "execution_count": null,
   "metadata": {},
   "outputs": [],
   "source": [
    "len(df_new)"
   ]
  },
  {
   "cell_type": "code",
   "execution_count": null,
   "metadata": {},
   "outputs": [],
   "source": []
  },
  {
   "cell_type": "code",
   "execution_count": null,
   "metadata": {},
   "outputs": [],
   "source": [
    "p = Path('/media/data/astamoulakatos/Survey-1-2016/')"
   ]
  },
  {
   "cell_type": "code",
   "execution_count": null,
   "metadata": {},
   "outputs": [],
   "source": [
    "path_to_save = '/media/raid/astamoulakatos/multi-view-frames/fj/'"
   ]
  },
  {
   "cell_type": "code",
   "execution_count": null,
   "metadata": {},
   "outputs": [],
   "source": [
    "for k in tqdm(range(0,len(df_new))): \n",
    "    video1 = p/df_new.folder[k]/df_new.video1[k]\n",
    "    video2 = p/df_new.folder[k]/df_new.video2[k]\n",
    "    video3 = p/df_new.folder[k]/df_new.video3[k]\n",
    "    start = float(df_new['offset_Ch2'][k] -1 )*1000\n",
    "    stop = float(df_new['offset_Ch2'][k] + 0.5)*1000\n",
    "    extract_frames(k, str(video2), path_to_save, 2, start, stop, nframes=3)      \n",
    "    start = float(df_new['offset_Ch1'][k] - 1)*1000\n",
    "    stop = float(df_new['offset_Ch1'][k] + 0.5)*1000\n",
    "    extract_frames(k, str(video1), path_to_save, 1, start, stop, nframes=3)\n",
    "    start = float(df_new['offset_Ch3'][k] - 1)*1000\n",
    "    stop = float(df_new['offset_Ch3'][k] + 0.5)*1000\n",
    "    extract_frames(k, str(video3), path_to_save, 3, start, stop, nframes=3)     "
   ]
  },
  {
   "cell_type": "code",
   "execution_count": null,
   "metadata": {},
   "outputs": [],
   "source": []
  },
  {
   "cell_type": "code",
   "execution_count": null,
   "metadata": {},
   "outputs": [],
   "source": []
  },
  {
   "cell_type": "code",
   "execution_count": null,
   "metadata": {},
   "outputs": [],
   "source": []
  },
  {
   "cell_type": "code",
   "execution_count": null,
   "metadata": {},
   "outputs": [],
   "source": []
  },
  {
   "cell_type": "code",
   "execution_count": null,
   "metadata": {},
   "outputs": [],
   "source": [
    "# SEEK TO LOCATION OF EVENT FOR EACH VIDEO USING MILISECONDS\n",
    "import os\n",
    "import matplotlib.pyplot as plt\n",
    "%matplotlib inline\n",
    "import cv2\n",
    "p = Path('/media/data/astamoulakatos/Survey-1-2016/')\n",
    "\n",
    "for i in range(len(df_new)):\n",
    "    vid1 = p/df_new.folder[i]/df_new.video1[i]\n",
    "    vid2 = p/df_new.folder[i]/df_new.video2[i]\n",
    "    vid3 = p/df_new.folder[i]/df_new.video3[i]\n",
    "    \n",
    "    location1 = float(df_new['offset_Ch1'][i])*1000\n",
    "    #print(location)\n",
    "    cap = cv2.VideoCapture(str(vid1))\n",
    "    cap.set(cv2.CAP_PROP_POS_MSEC, location1)\n",
    "    #cap.set(cv2.CAP_PROP_POS_FRAMES, location)\n",
    "    success1,image1 = cap.read()\n",
    "    \n",
    "    location2 = float(df_new['offset_Ch2'][i])*1000\n",
    "    #print(location)\n",
    "    cap = cv2.VideoCapture(str(vid2))\n",
    "    cap.set(cv2.CAP_PROP_POS_MSEC, location2)\n",
    "    #cap.set(cv2.CAP_PROP_POS_FRAMES, location)\n",
    "    success2,image2 = cap.read()\n",
    "    \n",
    "    \n",
    "    location3 = float(df_new['offset_Ch3'][i])*1000\n",
    "    #print(location)\n",
    "    cap = cv2.VideoCapture(str(vid3))\n",
    "    cap.set(cv2.CAP_PROP_POS_MSEC, location3)\n",
    "    #cap.set(cv2.CAP_PROP_POS_FRAMES, location)\n",
    "    success3 ,image3 = cap.read()\n",
    "    \n",
    "    if (success1 & success2 & success3):\n",
    "        plt.figure(figsize=(19,5))\n",
    "        plt.suptitle('Event: {}  ,  Folder: {}'.format(df_new['Description'][i], df_new['folder'][i]), fontsize=18)\n",
    "        #plt.tight_layout()\n",
    "        plt.subplot(131)\n",
    "        plt.title('offset1 = {:.3f} sec'.format(location1/1000))\n",
    "        plt.axis('off')\n",
    "        plt.imshow(image1)\n",
    "        \n",
    "        plt.subplot(132)\n",
    "        plt.title('offset2 = {:.3f} sec'.format(location2/1000))\n",
    "        plt.axis('off')\n",
    "        plt.imshow(image2)\n",
    "\n",
    "        plt.subplot(133)\n",
    "        plt.title('offset3 = {:.3f} sec'.format(location3/1000))\n",
    "        plt.axis('off')\n",
    "        plt.imshow(image3)\n",
    "        #plt.savefig('./subplots/subplot{}.jpg'.format(i))"
   ]
  },
  {
   "cell_type": "code",
   "execution_count": null,
   "metadata": {},
   "outputs": [],
   "source": []
  }
 ],
 "metadata": {
  "language_info": {
   "name": "python",
   "pygments_lexer": "ipython3"
  }
 },
 "nbformat": 4,
 "nbformat_minor": 4
}
